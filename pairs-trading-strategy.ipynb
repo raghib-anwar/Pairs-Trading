{
  "nbformat": 4,
  "nbformat_minor": 0,
  "metadata": {
    "colab": {
      "name": "MTH517 Project Code.ipynb",
      "provenance": [],
      "collapsed_sections": []
    },
    "kernelspec": {
      "name": "python3",
      "display_name": "Python 3"
    },
    "language_info": {
      "name": "python"
    }
  },
  "cells": [
    {
      "cell_type": "code",
      "metadata": {
        "colab": {
          "base_uri": "https://localhost:8080/"
        },
        "id": "aam-Ech8h35V",
        "outputId": "816c2542-d442-4834-944f-9658c08254a9"
      },
      "source": [
        "!pip install yfinance"
      ],
      "execution_count": null,
      "outputs": [
        {
          "output_type": "stream",
          "name": "stdout",
          "text": [
            "Collecting yfinance\n",
            "  Downloading yfinance-0.1.66-py2.py3-none-any.whl (25 kB)\n",
            "Collecting lxml>=4.5.1\n",
            "  Downloading lxml-4.6.4-cp37-cp37m-manylinux_2_17_x86_64.manylinux2014_x86_64.manylinux_2_24_x86_64.whl (6.3 MB)\n",
            "\u001b[K     |████████████████████████████████| 6.3 MB 7.4 MB/s \n",
            "\u001b[?25hRequirement already satisfied: pandas>=0.24 in /usr/local/lib/python3.7/dist-packages (from yfinance) (1.1.5)\n",
            "Requirement already satisfied: multitasking>=0.0.7 in /usr/local/lib/python3.7/dist-packages (from yfinance) (0.0.9)\n",
            "Requirement already satisfied: numpy>=1.15 in /usr/local/lib/python3.7/dist-packages (from yfinance) (1.19.5)\n",
            "Requirement already satisfied: requests>=2.20 in /usr/local/lib/python3.7/dist-packages (from yfinance) (2.23.0)\n",
            "Requirement already satisfied: pytz>=2017.2 in /usr/local/lib/python3.7/dist-packages (from pandas>=0.24->yfinance) (2018.9)\n",
            "Requirement already satisfied: python-dateutil>=2.7.3 in /usr/local/lib/python3.7/dist-packages (from pandas>=0.24->yfinance) (2.8.2)\n",
            "Requirement already satisfied: six>=1.5 in /usr/local/lib/python3.7/dist-packages (from python-dateutil>=2.7.3->pandas>=0.24->yfinance) (1.15.0)\n",
            "Requirement already satisfied: idna<3,>=2.5 in /usr/local/lib/python3.7/dist-packages (from requests>=2.20->yfinance) (2.10)\n",
            "Requirement already satisfied: certifi>=2017.4.17 in /usr/local/lib/python3.7/dist-packages (from requests>=2.20->yfinance) (2021.10.8)\n",
            "Requirement already satisfied: chardet<4,>=3.0.2 in /usr/local/lib/python3.7/dist-packages (from requests>=2.20->yfinance) (3.0.4)\n",
            "Requirement already satisfied: urllib3!=1.25.0,!=1.25.1,<1.26,>=1.21.1 in /usr/local/lib/python3.7/dist-packages (from requests>=2.20->yfinance) (1.24.3)\n",
            "Installing collected packages: lxml, yfinance\n",
            "  Attempting uninstall: lxml\n",
            "    Found existing installation: lxml 4.2.6\n",
            "    Uninstalling lxml-4.2.6:\n",
            "      Successfully uninstalled lxml-4.2.6\n",
            "Successfully installed lxml-4.6.4 yfinance-0.1.66\n"
          ]
        }
      ]
    },
    {
      "cell_type": "code",
      "metadata": {
        "colab": {
          "base_uri": "https://localhost:8080/"
        },
        "id": "pRFobFpdh7ip",
        "outputId": "7a92aff9-a5d7-4a64-b27d-1dec2a34ae51"
      },
      "source": [
        "# Standard Imports\n",
        "\n",
        "import numpy as np\n",
        "import pandas as pd\n",
        "import statsmodels\n",
        "from sklearn.linear_model import LinearRegression\n",
        "from statsmodels.tsa.stattools import coint   \n",
        "import matplotlib.pyplot as plt\n",
        "from pandas_datareader import data as pdr\n",
        "import datetime\n",
        "from functools import cmp_to_key\n",
        "import yfinance as yf\n",
        "import warnings\n",
        "warnings.filterwarnings('ignore')"
      ],
      "execution_count": null,
      "outputs": [
        {
          "output_type": "stream",
          "name": "stderr",
          "text": [
            "/usr/local/lib/python3.7/dist-packages/statsmodels/tools/_testing.py:19: FutureWarning: pandas.util.testing is deprecated. Use the functions in the public API at pandas.testing instead.\n",
            "  import pandas.util.testing as tm\n"
          ]
        }
      ]
    },
    {
      "cell_type": "code",
      "metadata": {
        "id": "O3zELI07h870"
      },
      "source": [
        "# predefined functions in this cell ,  no need to chagne them\n",
        "\n",
        "def downloadStockData(tickers,start,end):\n",
        "    \"\"\"\n",
        "        This function downloads the Close price of the stock and creates a dataframe from it\n",
        "        Params:\n",
        "            tickers : a list of ticker of various stocks\n",
        "            start   : it is the start date of the data to be downloaded. It is a datetime in datetime format.\n",
        "            end     : it is the end date of the data to be downloaded. It is a datetime in datetime format.\n",
        "\n",
        "        Return:\n",
        "            A dataframe with all the close for of each stock on each open market day\n",
        "    \"\"\"\n",
        "    ticker_data = yf.download(tickers, start, end)['Adj Close']\n",
        "    return ticker_data\n"
      ],
      "execution_count": null,
      "outputs": []
    },
    {
      "cell_type": "code",
      "metadata": {
        "colab": {
          "base_uri": "https://localhost:8080/",
          "height": 447
        },
        "id": "8JUBVzS3h_DE",
        "outputId": "91785297-29d3-4b7a-e9c2-fce57c8c03d9"
      },
      "source": [
        "tickers = ['HD', 'DIS','MSFT', 'BA', 'MMM', 'PFE', 'NKE', 'JNJ', 'MCD', 'XOM', 'GS', 'JPM', 'AXP', 'V', 'IBM', 'UNH', 'PG', 'GE', 'KO', 'CSCO', 'CVX', 'CAT', 'MRK', 'WMT', 'VZ', 'RTX', 'TRV', 'AAPL', 'ADBE', 'EBAY', 'QCOM', 'HPQ', 'JNPR', 'AMD']\n",
        "start = datetime.datetime(2011,1,1)\n",
        "end = datetime.datetime(2017,1,1)\n",
        "data = downloadStockData(tickers,start,end)\n",
        "data.head()"
      ],
      "execution_count": null,
      "outputs": [
        {
          "output_type": "stream",
          "name": "stdout",
          "text": [
            "[*********************100%***********************]  34 of 34 completed\n"
          ]
        },
        {
          "output_type": "execute_result",
          "data": {
            "text/html": [
              "<div>\n",
              "<style scoped>\n",
              "    .dataframe tbody tr th:only-of-type {\n",
              "        vertical-align: middle;\n",
              "    }\n",
              "\n",
              "    .dataframe tbody tr th {\n",
              "        vertical-align: top;\n",
              "    }\n",
              "\n",
              "    .dataframe thead th {\n",
              "        text-align: right;\n",
              "    }\n",
              "</style>\n",
              "<table border=\"1\" class=\"dataframe\">\n",
              "  <thead>\n",
              "    <tr style=\"text-align: right;\">\n",
              "      <th></th>\n",
              "      <th>AAPL</th>\n",
              "      <th>ADBE</th>\n",
              "      <th>AMD</th>\n",
              "      <th>AXP</th>\n",
              "      <th>BA</th>\n",
              "      <th>CAT</th>\n",
              "      <th>CSCO</th>\n",
              "      <th>CVX</th>\n",
              "      <th>DIS</th>\n",
              "      <th>EBAY</th>\n",
              "      <th>GE</th>\n",
              "      <th>GS</th>\n",
              "      <th>HD</th>\n",
              "      <th>HPQ</th>\n",
              "      <th>IBM</th>\n",
              "      <th>JNJ</th>\n",
              "      <th>JNPR</th>\n",
              "      <th>JPM</th>\n",
              "      <th>KO</th>\n",
              "      <th>MCD</th>\n",
              "      <th>MMM</th>\n",
              "      <th>MRK</th>\n",
              "      <th>MSFT</th>\n",
              "      <th>NKE</th>\n",
              "      <th>PFE</th>\n",
              "      <th>PG</th>\n",
              "      <th>QCOM</th>\n",
              "      <th>RTX</th>\n",
              "      <th>TRV</th>\n",
              "      <th>UNH</th>\n",
              "      <th>V</th>\n",
              "      <th>VZ</th>\n",
              "      <th>WMT</th>\n",
              "      <th>XOM</th>\n",
              "    </tr>\n",
              "    <tr>\n",
              "      <th>Date</th>\n",
              "      <th></th>\n",
              "      <th></th>\n",
              "      <th></th>\n",
              "      <th></th>\n",
              "      <th></th>\n",
              "      <th></th>\n",
              "      <th></th>\n",
              "      <th></th>\n",
              "      <th></th>\n",
              "      <th></th>\n",
              "      <th></th>\n",
              "      <th></th>\n",
              "      <th></th>\n",
              "      <th></th>\n",
              "      <th></th>\n",
              "      <th></th>\n",
              "      <th></th>\n",
              "      <th></th>\n",
              "      <th></th>\n",
              "      <th></th>\n",
              "      <th></th>\n",
              "      <th></th>\n",
              "      <th></th>\n",
              "      <th></th>\n",
              "      <th></th>\n",
              "      <th></th>\n",
              "      <th></th>\n",
              "      <th></th>\n",
              "      <th></th>\n",
              "      <th></th>\n",
              "      <th></th>\n",
              "      <th></th>\n",
              "      <th></th>\n",
              "      <th></th>\n",
              "    </tr>\n",
              "  </thead>\n",
              "  <tbody>\n",
              "    <tr>\n",
              "      <th>2011-01-03</th>\n",
              "      <td>10.091493</td>\n",
              "      <td>31.290001</td>\n",
              "      <td>8.47</td>\n",
              "      <td>36.961693</td>\n",
              "      <td>53.034523</td>\n",
              "      <td>69.793510</td>\n",
              "      <td>15.007279</td>\n",
              "      <td>59.754826</td>\n",
              "      <td>33.302654</td>\n",
              "      <td>11.623152</td>\n",
              "      <td>106.825790</td>\n",
              "      <td>146.697540</td>\n",
              "      <td>27.611784</td>\n",
              "      <td>14.501306</td>\n",
              "      <td>96.850700</td>\n",
              "      <td>45.991402</td>\n",
              "      <td>31.464514</td>\n",
              "      <td>32.375217</td>\n",
              "      <td>23.350754</td>\n",
              "      <td>56.308277</td>\n",
              "      <td>64.740776</td>\n",
              "      <td>23.910625</td>\n",
              "      <td>22.101496</td>\n",
              "      <td>18.942730</td>\n",
              "      <td>11.182627</td>\n",
              "      <td>46.387905</td>\n",
              "      <td>37.503578</td>\n",
              "      <td>38.450630</td>\n",
              "      <td>42.964626</td>\n",
              "      <td>31.468752</td>\n",
              "      <td>16.307364</td>\n",
              "      <td>22.049568</td>\n",
              "      <td>42.330910</td>\n",
              "      <td>48.346909</td>\n",
              "    </tr>\n",
              "    <tr>\n",
              "      <th>2011-01-04</th>\n",
              "      <td>10.144160</td>\n",
              "      <td>31.510000</td>\n",
              "      <td>8.77</td>\n",
              "      <td>37.430088</td>\n",
              "      <td>53.465824</td>\n",
              "      <td>69.467331</td>\n",
              "      <td>15.029259</td>\n",
              "      <td>59.533829</td>\n",
              "      <td>34.332912</td>\n",
              "      <td>11.538043</td>\n",
              "      <td>108.754265</td>\n",
              "      <td>146.722977</td>\n",
              "      <td>27.111317</td>\n",
              "      <td>14.803270</td>\n",
              "      <td>96.955757</td>\n",
              "      <td>46.379425</td>\n",
              "      <td>31.396927</td>\n",
              "      <td>32.843769</td>\n",
              "      <td>22.867418</td>\n",
              "      <td>54.624912</td>\n",
              "      <td>64.651260</td>\n",
              "      <td>24.116295</td>\n",
              "      <td>22.188385</td>\n",
              "      <td>18.476257</td>\n",
              "      <td>11.378699</td>\n",
              "      <td>46.516819</td>\n",
              "      <td>38.094017</td>\n",
              "      <td>38.513912</td>\n",
              "      <td>42.772198</td>\n",
              "      <td>31.756922</td>\n",
              "      <td>16.325872</td>\n",
              "      <td>22.491404</td>\n",
              "      <td>42.493851</td>\n",
              "      <td>48.573898</td>\n",
              "    </tr>\n",
              "    <tr>\n",
              "      <th>2011-01-05</th>\n",
              "      <td>10.227139</td>\n",
              "      <td>32.220001</td>\n",
              "      <td>8.91</td>\n",
              "      <td>38.516148</td>\n",
              "      <td>53.897129</td>\n",
              "      <td>70.067795</td>\n",
              "      <td>15.212362</td>\n",
              "      <td>59.429855</td>\n",
              "      <td>35.187057</td>\n",
              "      <td>11.643416</td>\n",
              "      <td>108.929565</td>\n",
              "      <td>147.502808</td>\n",
              "      <td>27.025303</td>\n",
              "      <td>14.996663</td>\n",
              "      <td>96.568329</td>\n",
              "      <td>46.350136</td>\n",
              "      <td>32.005272</td>\n",
              "      <td>33.245396</td>\n",
              "      <td>22.731363</td>\n",
              "      <td>54.882187</td>\n",
              "      <td>64.651260</td>\n",
              "      <td>24.255621</td>\n",
              "      <td>22.117292</td>\n",
              "      <td>18.597269</td>\n",
              "      <td>11.454597</td>\n",
              "      <td>46.409393</td>\n",
              "      <td>38.886234</td>\n",
              "      <td>38.567455</td>\n",
              "      <td>42.518196</td>\n",
              "      <td>31.858612</td>\n",
              "      <td>16.670420</td>\n",
              "      <td>22.800091</td>\n",
              "      <td>42.214531</td>\n",
              "      <td>48.444191</td>\n",
              "    </tr>\n",
              "    <tr>\n",
              "      <th>2011-01-06</th>\n",
              "      <td>10.218875</td>\n",
              "      <td>32.270000</td>\n",
              "      <td>8.69</td>\n",
              "      <td>38.251041</td>\n",
              "      <td>54.951427</td>\n",
              "      <td>69.341316</td>\n",
              "      <td>15.344199</td>\n",
              "      <td>58.942390</td>\n",
              "      <td>34.914082</td>\n",
              "      <td>11.517782</td>\n",
              "      <td>108.462074</td>\n",
              "      <td>145.985458</td>\n",
              "      <td>26.915812</td>\n",
              "      <td>15.227386</td>\n",
              "      <td>97.625633</td>\n",
              "      <td>46.276924</td>\n",
              "      <td>32.284100</td>\n",
              "      <td>33.081760</td>\n",
              "      <td>22.566669</td>\n",
              "      <td>54.551403</td>\n",
              "      <td>64.255913</td>\n",
              "      <td>24.587347</td>\n",
              "      <td>22.765007</td>\n",
              "      <td>18.430052</td>\n",
              "      <td>11.498873</td>\n",
              "      <td>46.330616</td>\n",
              "      <td>39.364559</td>\n",
              "      <td>38.528526</td>\n",
              "      <td>41.863949</td>\n",
              "      <td>32.519676</td>\n",
              "      <td>16.920168</td>\n",
              "      <td>22.216314</td>\n",
              "      <td>41.865402</td>\n",
              "      <td>48.755489</td>\n",
              "    </tr>\n",
              "    <tr>\n",
              "      <th>2011-01-07</th>\n",
              "      <td>10.292054</td>\n",
              "      <td>32.040001</td>\n",
              "      <td>8.83</td>\n",
              "      <td>37.934643</td>\n",
              "      <td>55.414684</td>\n",
              "      <td>69.482155</td>\n",
              "      <td>15.358847</td>\n",
              "      <td>59.267368</td>\n",
              "      <td>34.737968</td>\n",
              "      <td>11.225986</td>\n",
              "      <td>107.702377</td>\n",
              "      <td>144.696915</td>\n",
              "      <td>26.884541</td>\n",
              "      <td>15.298631</td>\n",
              "      <td>97.146217</td>\n",
              "      <td>45.830334</td>\n",
              "      <td>31.760241</td>\n",
              "      <td>32.457024</td>\n",
              "      <td>22.527285</td>\n",
              "      <td>54.669025</td>\n",
              "      <td>64.323051</td>\n",
              "      <td>24.779745</td>\n",
              "      <td>22.591230</td>\n",
              "      <td>18.379436</td>\n",
              "      <td>11.600075</td>\n",
              "      <td>46.194550</td>\n",
              "      <td>38.662033</td>\n",
              "      <td>38.494442</td>\n",
              "      <td>41.048069</td>\n",
              "      <td>32.587490</td>\n",
              "      <td>16.871603</td>\n",
              "      <td>22.032358</td>\n",
              "      <td>41.958500</td>\n",
              "      <td>49.021366</td>\n",
              "    </tr>\n",
              "  </tbody>\n",
              "</table>\n",
              "</div>"
            ],
            "text/plain": [
              "                 AAPL       ADBE   AMD  ...         VZ        WMT        XOM\n",
              "Date                                    ...                                 \n",
              "2011-01-03  10.091493  31.290001  8.47  ...  22.049568  42.330910  48.346909\n",
              "2011-01-04  10.144160  31.510000  8.77  ...  22.491404  42.493851  48.573898\n",
              "2011-01-05  10.227139  32.220001  8.91  ...  22.800091  42.214531  48.444191\n",
              "2011-01-06  10.218875  32.270000  8.69  ...  22.216314  41.865402  48.755489\n",
              "2011-01-07  10.292054  32.040001  8.83  ...  22.032358  41.958500  49.021366\n",
              "\n",
              "[5 rows x 34 columns]"
            ]
          },
          "metadata": {},
          "execution_count": 5
        }
      ]
    },
    {
      "cell_type": "code",
      "metadata": {
        "id": "z5_t0zPjiBgL"
      },
      "source": [
        "def findCointegrationValue(data,p_value_threshold=0.05):\n",
        "    \"\"\"\n",
        "        This function find out the pairs of stock with p value less than a constant\n",
        "        Params:\n",
        "            data               : the dataframe containning all the close for of each stock on each open market day\n",
        "            p_value_threshold  : the threshold value for the p value of pairs of stocks. We consider a 2 stocks to be cointegrted only if the p value is less than this value\n",
        "\n",
        "        Returns:\n",
        "            p values of all the pairs , the list of all the pairs with p value less than the threshold \n",
        "    \"\"\"\n",
        "    n = data.shape[1]\n",
        "    p_values_matrix = np.ones((n,n));\n",
        "    keys = data.keys();\n",
        "    pairs = []\n",
        "    for i in range(n):\n",
        "      for j in range(i+1,n):\n",
        "        S1 = data[keys[i]]\n",
        "        S2 = data[keys[j]]\n",
        "        result = coint(S1,S2)\n",
        "        pvalue = result[1]\n",
        "        p_values_matrix[i,j]=pvalue\n",
        "        if(pvalue < p_value_threshold):\n",
        "          pairs.append(((i,j),pvalue))\n",
        "        \n",
        "    return p_values_matrix,pairs"
      ],
      "execution_count": null,
      "outputs": []
    },
    {
      "cell_type": "code",
      "metadata": {
        "id": "qAUDEA0TiLYI"
      },
      "source": [
        "def compare(x,y):\n",
        "  return x[1]-y[1]\n",
        "\n",
        "def zscore(series):\n",
        "    newSeries = series.copy()\n",
        "    for i in range(len(newSeries)):\n",
        "        x = (newSeries[i] - newSeries[:i+1].mean()) / np.std(newSeries[:i+1])\n",
        "        series[i]= x\n",
        "    return series\n"
      ],
      "execution_count": null,
      "outputs": []
    },
    {
      "cell_type": "code",
      "metadata": {
        "id": "L9QgL4ZPiMSm"
      },
      "source": [
        "def getBestKCointergratedStocks(data,k=10,p_value_threshold=0.05):\n",
        "    \"\"\"\n",
        "        This functions find out the k pairs with the least p value and all of them should be less than the threshold  \n",
        "        Params:\n",
        "            data               : the dataframe containning all the close for of each stock on each open market day\n",
        "            k                  : the number of pairs to be found out\n",
        "            p_value_threshold  : the threshold value for the p value of pairs of stocks. We consider a 2 stocks to be cointegrted only if the p value is less than this value\n",
        "\n",
        "        Returns:\n",
        "            the p value for all the pairs of stocks , the list k pairs with the least p value and their p values . If k such pairs doesn't exists return how many of them occur \n",
        "    \"\"\"\n",
        "    p_values_matrix, pairs = findCointegrationValue(data)\n",
        "    tem=sorted(pairs,key=cmp_to_key(compare))\n",
        "    if len(tem) < k:\n",
        "      return p_values_matrix,tem\n",
        "    return p_values_matrix,tem[0:k]\n",
        "   "
      ],
      "execution_count": null,
      "outputs": []
    },
    {
      "cell_type": "code",
      "metadata": {
        "id": "581jseSiiNrg"
      },
      "source": [
        "_, cointegrated_pair = getBestKCointergratedStocks(data,10)\n",
        "keys  = data.keys()"
      ],
      "execution_count": null,
      "outputs": []
    },
    {
      "cell_type": "code",
      "metadata": {
        "colab": {
          "base_uri": "https://localhost:8080/"
        },
        "id": "mqUM7IgEjlks",
        "outputId": "e1afc38f-dc8b-4ae9-a2f2-3c168d132df6"
      },
      "source": [
        "coint_cmp1 = keys[cointegrated_pair[0][0][0]]\n",
        "coint_cmp2 = keys[cointegrated_pair[0][0][1]]\n",
        "print(f\"Pairs showing the highest cointegration are {coint_cmp1} and {coint_cmp2}.\")"
      ],
      "execution_count": null,
      "outputs": [
        {
          "output_type": "stream",
          "name": "stdout",
          "text": [
            "Pairs showing the highest cointegration are CSCO and TRV.\n"
          ]
        }
      ]
    },
    {
      "cell_type": "code",
      "metadata": {
        "colab": {
          "base_uri": "https://localhost:8080/"
        },
        "id": "hfdeBMCtlFo1",
        "outputId": "c7d061f5-ef7f-49c0-b1ac-b5595ccc2310"
      },
      "source": [
        "print(cointegrated_pair)"
      ],
      "execution_count": null,
      "outputs": [
        {
          "output_type": "stream",
          "name": "stdout",
          "text": [
            "[((6, 28), 0.002170132557706041), ((28, 30), 0.0053040360221782564), ((18, 31), 0.009209822914879607), ((12, 28), 0.014547482527817134), ((6, 12), 0.015296439234712075), ((6, 20), 0.015988472646918845), ((9, 24), 0.01649295430815651), ((6, 30), 0.01738554150629326), ((18, 28), 0.018217134563208722), ((18, 30), 0.018674682000284014)]\n"
          ]
        }
      ]
    },
    {
      "cell_type": "code",
      "metadata": {
        "colab": {
          "base_uri": "https://localhost:8080/",
          "height": 289
        },
        "id": "wgo40kmKkaf-",
        "outputId": "9fdc0f6a-0e65-4e8b-b984-57f209c958bf"
      },
      "source": [
        "S1= \"EBAY\"\n",
        "S2= \"PFE\"\n",
        "ratios = data[S1]/data[S2]\n",
        "print(S1,S2)\n",
        "zscore(ratios).plot()\n",
        "plt.axhline(zscore(ratios).mean(),color=\"yellow\")\n",
        "plt.show()"
      ],
      "execution_count": null,
      "outputs": [
        {
          "output_type": "stream",
          "name": "stdout",
          "text": [
            "EBAY PFE\n"
          ]
        },
        {
          "output_type": "display_data",
          "data": {
            "image/png": "[encoded data removed]",
            "text/plain": [
              "<Figure size 432x288 with 1 Axes>"
            ]
          },
          "metadata": {
            "needs_background": "light"
          }
        }
      ]
    },
    {
      "cell_type": "code",
      "metadata": {
        "colab": {
          "base_uri": "https://localhost:8080/",
          "height": 287
        },
        "id": "Nefvl5KOkcN_",
        "outputId": "ba5f0a6d-fba0-466e-f3ed-77caaccd09d7"
      },
      "source": [
        "data[S1].plot()\n",
        "data[S2].plot()"
      ],
      "execution_count": null,
      "outputs": [
        {
          "output_type": "execute_result",
          "data": {
            "text/plain": [
              "<matplotlib.axes._subplots.AxesSubplot at 0x7fec23fc1350>"
            ]
          },
          "metadata": {},
          "execution_count": 13
        },
        {
          "output_type": "display_data",
          "data": {
            "image/png": "[encoded data removed]",
            "text/plain": [
              "<Figure size 432x288 with 1 Axes>"
            ]
          },
          "metadata": {
            "needs_background": "light"
          }
        }
      ]
    },
    {
      "cell_type": "code",
      "metadata": {
        "colab": {
          "base_uri": "https://localhost:8080/",
          "height": 287
        },
        "id": "ICorDmZEoEWW",
        "outputId": "663106d9-56c8-47c0-cccd-e2ee1820fb81"
      },
      "source": [
        "S1= \"MSFT\"\n",
        "S2= \"ADBE\"\n",
        "ratios = data[S1]/data[S2]\n",
        "print(S1,S2)\n",
        "zscore(ratios).plot()\n",
        "plt.axhline(zscore(ratios).mean(),color=\"yellow\")\n",
        "plt.show()"
      ],
      "execution_count": null,
      "outputs": [
        {
          "output_type": "stream",
          "name": "stdout",
          "text": [
            "MSFT ADBE\n"
          ]
        },
        {
          "output_type": "display_data",
          "data": {
            "image/png": "[encoded data removed]",
            "text/plain": [
              "<Figure size 432x288 with 1 Axes>"
            ]
          },
          "metadata": {
            "needs_background": "light"
          }
        }
      ]
    },
    {
      "cell_type": "code",
      "metadata": {
        "colab": {
          "base_uri": "https://localhost:8080/",
          "height": 287
        },
        "id": "bgR4H3MVoyXA",
        "outputId": "62f6a39e-a896-48ec-a126-a2373a4cfaa9"
      },
      "source": [
        "data[S1].plot()\n",
        "data[S2].plot()"
      ],
      "execution_count": null,
      "outputs": [
        {
          "output_type": "execute_result",
          "data": {
            "text/plain": [
              "<matplotlib.axes._subplots.AxesSubplot at 0x7fec239fda90>"
            ]
          },
          "metadata": {},
          "execution_count": 15
        },
        {
          "output_type": "display_data",
          "data": {
            "image/png": "[encoded data removed]",
            "text/plain": [
              "<Figure size 432x288 with 1 Axes>"
            ]
          },
          "metadata": {
            "needs_background": "light"
          }
        }
      ]
    },
    {
      "cell_type": "code",
      "metadata": {
        "id": "MA8lprb0qwF4"
      },
      "source": [
        "def trade1(S1, S2,window, MAX_SHORTING_AMOUNT = 10000, MAX_TRANSACTION_AT_A_TIME=5,error_bound1=0.1,error_bound2=0.05):\n",
        "    \"\"\"\n",
        "        This functions performs the trading according to the following strategy\n",
        "            For the cointegration approach , we will use the fit a line and then calculate the errors . If the error ratio(Y/X) between the time series at any point becomes such that it is greater \n",
        "            than the error_bound1 (the error is calculated by fitting a line to the ratios data over the last <window> days) we will short the stock Y and go for long X and square off whenever the ratio\n",
        "            becomes less than error_bound2 .If the ratio becomes less than the -1*error_bound1 , we will follow the reverse strategy .\n",
        "        Params: \n",
        "            data1                     : Time series data of stock 1\n",
        "            data2                     : Time series data of stock 2\n",
        "            window                    : The size of the datapoints for which we fit a line and calculate the eror \n",
        "            MAX_SHORTING_AMOUNT       : The maximum amount of money , for which the stocks can be shorted at a time\n",
        "            MAX_TRANSACTION_AT_A_TIME : the number of times we can short a stock , in each shorting we do the shorting worth  MAX_SHORTING_AMOUNT/MAX_TRANSACTION_AT_A_TIME\n",
        "            error_bound1              : A constant with usage stated above \n",
        "            error_bound2              : A constant with usage stated above\n",
        "        Return:\n",
        "            The profit which we can make by using this method\n",
        "    \"\"\"\n",
        "\n",
        "    ratios = S1/S2\n",
        "    money = 0\n",
        "    stock1_count=0\n",
        "    stock2_count=0\n",
        "    num_of_trans=0\n",
        "    for i in range(len(ratios)-window-1):\n",
        "      Y = ratios[i:i+window]\n",
        "      X = np.array(range(i+1,window+i+1))\n",
        "      X = X.reshape(-1,1)\n",
        "      model = LinearRegression().fit(X,Y)\n",
        "      y_pred = model.predict([[ratios[i+window]]])\n",
        "      error = ratios[i+window] - y_pred\n",
        "      if error > error_bound1 and num_of_trans <= MAX_TRANSACTION_AT_A_TIME : \n",
        "        amount = MAX_SHORTING_AMOUNT/MAX_TRANSACTION_AT_A_TIME\n",
        "        num_of_trans+=1\n",
        "        stock1_count -= amount/S1[i+window]\n",
        "        stock2_count += amount/S2[i+window]\n",
        "      elif error < -error_bound1 and num_of_trans <= MAX_TRANSACTION_AT_A_TIME:\n",
        "        amount = MAX_SHORTING_AMOUNT/MAX_TRANSACTION_AT_A_TIME\n",
        "        num_of_trans+=1\n",
        "        stock1_count += amount/S1[i+window]\n",
        "        stock2_count -= amount/S2[i+window]\n",
        "\n",
        "      elif error > -error_bound2 and error < error_bound2 :\n",
        "        money += S1[i+window] * stock1_count + S2[i+window] * stock2_count\n",
        "        stock1_count = 0\n",
        "        stock2_count = 0\n",
        "        num_of_trans = 0\n",
        "    #Squaring off all transactions\n",
        "    money += S1[len(ratios)-1] * stock1_count + S2[len(ratios)-1] * stock2_count\n",
        "\n",
        "    return money\n",
        "    \n"
      ],
      "execution_count": null,
      "outputs": []
    },
    {
      "cell_type": "code",
      "metadata": {
        "id": "uFtXPij_q51q"
      },
      "source": [
        "def trade2(S1, S2, window1=5, window2=60,MAX_SHORTING_AMOUNT=10000, MAX_TRANSACTION_AT_A_TIME=5,c1=1,c2=0.75):\n",
        "    \"\"\"\n",
        "        This functions performs the trading according to the following strategy\n",
        "            For the cointegration approach, we will use the moving averages to calculate the transactions to be done.\n",
        "            First of all we calculate the moving average on window size of window1 and window2 and the moving standard deviation for window size of window2 for the ratio(Y/X) of stocks.\n",
        "            Also we assume window1<window2\n",
        "            Now when moving_average_window1 > moving_average_window2 + c1 * standard_deviation_window2 , we then short the stock Y and go for long on stock X and we would square off when\n",
        "            moving_average_window1 < moving_average_window2 - c2 * standard_deviation_window2.  \n",
        "            Reverse strategy happens when moving_average_window1 < moving_average_window2 - c1 * standard_deviation_window2\n",
        "        Params:\n",
        "            data1                     : Time series data of stock 1\n",
        "            data2                     : Time series data of stock 2\n",
        "            window1                   : The size of the data points from which we calculate the moving averages. This will be the less number of days moving average\n",
        "            window1                   : The size of the data points from which we calculate the moving averages. This will be the more number of days moving average\n",
        "            MAX_SHORTING_AMOUNT       : The maximum amount of money , for which the stocks can be shorted at a time\n",
        "            MAX_TRANSACTION_AT_A_TIME : the number of times we can short a stock , in each shorting we do the shorting worth  MAX_SHORTING_AMOUNT/MAX_TRANSACTION_AT_A_TIME\n",
        "    \"\"\"\n",
        "     # Compute rolling mean and rolling standard deviation\n",
        "    ratios = S1/S2\n",
        "    ma1 = ratios.rolling(window=window1,center=False).mean()\n",
        "    ma2 = ratios.rolling(window=window2,center=False).mean()\n",
        "   \n",
        "    std2 = ratios.rolling(window=window2,\n",
        "                        center=False).std()\n",
        "    \n",
        "    money=0\n",
        "    stock1_count = 0\n",
        "    stock2_count = 0\n",
        "    num_of_trans = 0\n",
        "    for i in range(window2-1,len(ratios)):\n",
        "        if ma1[i] > (ma2[i]+c1*std2[i]) and num_of_trans <= MAX_TRANSACTION_AT_A_TIME :\n",
        "            num_of_trans +=1\n",
        "            amount = MAX_SHORTING_AMOUNT/MAX_TRANSACTION_AT_A_TIME\n",
        "            stock1_count -= amount/S1[i] \n",
        "            stock2_count += amount/S2[i]\n",
        "        elif ma1[i] < (ma2[i] - c1*std2[i]) and num_of_trans <= MAX_TRANSACTION_AT_A_TIME :  \n",
        "            num_of_trans +=1\n",
        "            amount = MAX_SHORTING_AMOUNT/MAX_TRANSACTION_AT_A_TIME\n",
        "            stock1_count += amount/S1[i] \n",
        "            stock2_count -= amount/S2[i]\n",
        "        elif ma1[i] <= ma2[i]+c2*std2[i] and ma1[i] >= ma2[i]-c2*std2[i]:\n",
        "            money += S1[i] * stock1_count + S2[i] * stock2_count\n",
        "            stock1_count = 0\n",
        "            stock2_count = 0\n",
        "            num_of_trans = 0\n",
        "\n",
        "    #Squaring off all transactions\n",
        "    money += S1[len(ratios)-1] * stock1_count + S2[len(ratios)-1] * stock2_count\n",
        "\n",
        "    return money\n"
      ],
      "execution_count": null,
      "outputs": []
    },
    {
      "cell_type": "code",
      "metadata": {
        "colab": {
          "base_uri": "https://localhost:8080/"
        },
        "id": "9aKmKRezq_FN",
        "outputId": "1fb40fe0-b9af-43ef-9499-8d4a62842174"
      },
      "source": [
        "cointegraed_tickers = ['CSCO','TRV']\n",
        "start = datetime.datetime(2017,1,1)\n",
        "end = datetime.datetime(2019,1,1)\n",
        "recent_cointegrated_data = downloadStockData(cointegraed_tickers,start,end)"
      ],
      "execution_count": null,
      "outputs": [
        {
          "output_type": "stream",
          "name": "stdout",
          "text": [
            "[*********************100%***********************]  2 of 2 completed\n"
          ]
        }
      ]
    },
    {
      "cell_type": "code",
      "metadata": {
        "colab": {
          "base_uri": "https://localhost:8080/"
        },
        "id": "3Y7dwpsTrEk4",
        "outputId": "5aed90fb-4320-44e1-b044-a303cb2f93f1"
      },
      "source": [
        "print(\"From strategy 1, Net gain: \",trade1(recent_cointegrated_data['CSCO'],recent_cointegrated_data['TRV'],10))"
      ],
      "execution_count": null,
      "outputs": [
        {
          "output_type": "stream",
          "name": "stdout",
          "text": [
            "From strategy 1, Net gain:  1315.1279754638952\n"
          ]
        }
      ]
    },
    {
      "cell_type": "code",
      "metadata": {
        "colab": {
          "base_uri": "https://localhost:8080/"
        },
        "id": "FJ-jpV6xrLKh",
        "outputId": "04c0814e-f072-498d-d25d-66c62cbf7fb2"
      },
      "source": [
        "print(\"From strategy 2, Net gain: \",trade2(recent_cointegrated_data['CSCO'],recent_cointegrated_data['TRV']))"
      ],
      "execution_count": null,
      "outputs": [
        {
          "output_type": "stream",
          "name": "stdout",
          "text": [
            "From strategy 2, Net gain:  2461.72425965391\n"
          ]
        }
      ]
    },
    {
      "cell_type": "code",
      "metadata": {
        "id": "7I14ipKwrh4t"
      },
      "source": [
        ""
      ],
      "execution_count": null,
      "outputs": []
    }
  ]
}